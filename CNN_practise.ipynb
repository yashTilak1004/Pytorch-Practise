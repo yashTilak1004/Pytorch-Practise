{
  "nbformat": 4,
  "nbformat_minor": 0,
  "metadata": {
    "colab": {
      "provenance": [],
      "authorship_tag": "ABX9TyMpq397MDPyzpjcY/7JlI8v",
      "include_colab_link": true
    },
    "kernelspec": {
      "name": "python3",
      "display_name": "Python 3"
    },
    "language_info": {
      "name": "python"
    }
  },
  "cells": [
    {
      "cell_type": "markdown",
      "metadata": {
        "id": "view-in-github",
        "colab_type": "text"
      },
      "source": [
        "<a href=\"https://colab.research.google.com/github/yashTilak1004/Pytorch-Practise/blob/main/CNN_practise.ipynb\" target=\"_parent\"><img src=\"https://colab.research.google.com/assets/colab-badge.svg\" alt=\"Open In Colab\"/></a>"
      ]
    },
    {
      "cell_type": "code",
      "execution_count": 54,
      "metadata": {
        "id": "F21F54kVpMrh"
      },
      "outputs": [],
      "source": [
        "import torch\n",
        "import torch.nn as nn\n",
        "import torch.nn.functional as F\n",
        "from torch.utils.data import DataLoader\n",
        "from torchvision import datasets,transforms\n",
        "from torchvision.utils import make_grid\n",
        "import numpy as np\n",
        "import pandas as pd\n",
        "from sklearn.metrics import confusion_matrix\n",
        "import matplotlib.pyplot as plt"
      ]
    },
    {
      "cell_type": "code",
      "source": [
        "#convert mnist images into tensor of 4 dimension\n",
        "#h,w,color channel\n",
        "transform = transforms.ToTensor()\n",
        "#change image to tensor of 4 dimensions\n",
        "\n",
        "#Train data}convert it to tensor\n",
        "Train_data = datasets.MNIST(root = '/cnn_data',train = True,download = True,transform = transform)\n",
        "\n"
      ],
      "metadata": {
        "id": "eEYCQqb8nMDC"
      },
      "execution_count": 55,
      "outputs": []
    },
    {
      "cell_type": "code",
      "source": [
        "#Test data\n",
        "Test_data = datasets.MNIST(root = '/cnn_data',train = False,download = True,transform = transform)"
      ],
      "metadata": {
        "id": "qUCnhk86n3cq"
      },
      "execution_count": 56,
      "outputs": []
    },
    {
      "cell_type": "code",
      "source": [
        "Train_data"
      ],
      "metadata": {
        "colab": {
          "base_uri": "https://localhost:8080/"
        },
        "id": "hqkSSZ3LoHEd",
        "outputId": "8916ab3a-2067-4a42-9866-3b45474c519d"
      },
      "execution_count": 57,
      "outputs": [
        {
          "output_type": "execute_result",
          "data": {
            "text/plain": [
              "Dataset MNIST\n",
              "    Number of datapoints: 60000\n",
              "    Root location: /cnn_data\n",
              "    Split: Train\n",
              "    StandardTransform\n",
              "Transform: ToTensor()"
            ]
          },
          "metadata": {},
          "execution_count": 57
        }
      ]
    },
    {
      "cell_type": "code",
      "source": [
        " #convolutional and pooling layers\n",
        "\n",
        " #batch size should be small\n",
        "train_load = DataLoader(Train_data,batch_size = 10,shuffle = True)\n",
        "test_load = DataLoader(Test_data,batch_size = 10,shuffle = True)"
      ],
      "metadata": {
        "id": "6rImZUYcoZlO"
      },
      "execution_count": 58,
      "outputs": []
    },
    {
      "cell_type": "code",
      "source": [
        "#Define the CNN model\n",
        "#2 convulotional layers\n",
        "conv1 = nn.Conv2d(1,6,3,1)\n",
        "#in , out(feature maps) , kernel size and stride\n",
        "conv2 = nn.Conv2d(6,16,3,1)\n",
        "\n",
        "#grab an mnist image\n",
        "for i,(X_train,y_train) in enumerate(Train_data):\n",
        "  break"
      ],
      "metadata": {
        "id": "W00atUhapdRb"
      },
      "execution_count": 59,
      "outputs": []
    },
    {
      "cell_type": "code",
      "source": [
        "for i,(X_train,y_train) in enumerate(Train_data):\n",
        "  break\n",
        "X_train.shape #[1,28,28]->1 image of size 28*28 pixel"
      ],
      "metadata": {
        "colab": {
          "base_uri": "https://localhost:8080/"
        },
        "id": "I3uuN2yurWPe",
        "outputId": "8ba5fbc1-a606-4e15-a450-ac7e9051f551"
      },
      "execution_count": 60,
      "outputs": [
        {
          "output_type": "execute_result",
          "data": {
            "text/plain": [
              "torch.Size([1, 28, 28])"
            ]
          },
          "metadata": {},
          "execution_count": 60
        }
      ]
    },
    {
      "cell_type": "code",
      "source": [
        "x = X_train.view(1,1,28,28)#change it into a 4d image with 1 batch 1 iamge of size 28*28"
      ],
      "metadata": {
        "id": "clrsKOGJriE-"
      },
      "execution_count": 61,
      "outputs": []
    },
    {
      "cell_type": "code",
      "source": [
        "x = F.relu(conv1(x))\n",
        "x.shape #after the layer is ran->[1,6,26,26]\n",
        "# 1 is the single image\n",
        "#6 is the filters\n",
        "#26*26 is the image\n",
        "#x =F.max_pool2d(x,2,2)#kernel size of 2 and stride of 2"
      ],
      "metadata": {
        "colab": {
          "base_uri": "https://localhost:8080/"
        },
        "id": "Q8se7xEmrrRe",
        "outputId": "629cf548-eb02-41f3-9074-da26b7cf9f88"
      },
      "execution_count": 62,
      "outputs": [
        {
          "output_type": "execute_result",
          "data": {
            "text/plain": [
              "torch.Size([1, 6, 26, 26])"
            ]
          },
          "metadata": {},
          "execution_count": 62
        }
      ]
    },
    {
      "cell_type": "code",
      "source": [
        "x.shape#[1,6,13,13]->26*26 shrinked by 2 so 13*13\n",
        "x =F.max_pool2d(x,2,2)\n",
        "x.shape"
      ],
      "metadata": {
        "colab": {
          "base_uri": "https://localhost:8080/"
        },
        "id": "sXlLAh49ttlZ",
        "outputId": "b6005c4e-cf6c-4086-b8f8-e34dedee53bc"
      },
      "execution_count": 63,
      "outputs": [
        {
          "output_type": "execute_result",
          "data": {
            "text/plain": [
              "torch.Size([1, 6, 13, 13])"
            ]
          },
          "metadata": {},
          "execution_count": 63
        }
      ]
    },
    {
      "cell_type": "code",
      "source": [
        "#another convolutional layer\n",
        "\n",
        "x = F.relu(conv2(x))\n",
        "x.shape"
      ],
      "metadata": {
        "colab": {
          "base_uri": "https://localhost:8080/"
        },
        "id": "EBe6byfBt6A6",
        "outputId": "59a218a3-e764-4354-dadd-b62d9e285df3"
      },
      "execution_count": 64,
      "outputs": [
        {
          "output_type": "execute_result",
          "data": {
            "text/plain": [
              "torch.Size([1, 16, 11, 11])"
            ]
          },
          "metadata": {},
          "execution_count": 64
        }
      ]
    },
    {
      "cell_type": "code",
      "source": [
        "#pooling\n",
        "x = F.max_pool2d(x,2,2)\n",
        "x.shape#[1,16,5,5]->round it down"
      ],
      "metadata": {
        "colab": {
          "base_uri": "https://localhost:8080/"
        },
        "id": "buGKKiQHwJ0b",
        "outputId": "2b990568-f2cf-48ae-b93b-1f00976c2f65"
      },
      "execution_count": 66,
      "outputs": [
        {
          "output_type": "execute_result",
          "data": {
            "text/plain": [
              "torch.Size([1, 16, 5, 5])"
            ]
          },
          "metadata": {},
          "execution_count": 66
        }
      ]
    },
    {
      "cell_type": "code",
      "source": [
        "#model class\n",
        "class CNN(nn.Module):\n",
        "  def __init__(self):\n",
        "    super().__init__()\n",
        "    self.conv1 = nn.Conv2d(1,6,3,1)\n",
        "    self.conv2 = nn.Conv2d(6,16,3,1)\n",
        "\n",
        "    #the connected layer\n",
        "    #5,5,16 is the output given by the last pooling layer\n",
        "    self.fc1 = nn.Linear(5*5*16,120)\n",
        "    self.fc2 = nn.Linear(120,84)\n",
        "    self.fc3 = nn.Linear(84,10)\n",
        "  def forward(self,x):\n",
        "    x = F.relu(self.conv1(x))\n",
        "    x = F.max_pool2d(x,2,2)#2x2 kernel and stride 2\n",
        "    x = F.relu(self.conv2(x))\n",
        "    x = F.max_pool2d(x,2,2)\n",
        "\n",
        "    #flatten th epooled data\n",
        "    X =x.view(-1,16*5*5)#to differentiate the batch size\n",
        "    #print(X.shape)\n",
        "\n",
        "    #now go through the connected layers\n",
        "    X = F.relu(self.fc1(X))\n",
        "    X = F.relu(self.fc2(X))\n",
        "    X = F.relu(self.fc3(X))\n",
        "\n",
        "    return F.log_softmax(X,dim = 1)"
      ],
      "metadata": {
        "id": "2jhYeEhHwewN"
      },
      "execution_count": 75,
      "outputs": []
    },
    {
      "cell_type": "code",
      "source": [
        "#instance of our model\n",
        "torch.manual_seed(32)\n",
        "model = CNN()\n",
        "model"
      ],
      "metadata": {
        "colab": {
          "base_uri": "https://localhost:8080/"
        },
        "id": "u7fcexFr0kXE",
        "outputId": "eea26b44-ae86-4d96-fefa-f163adc67aa8"
      },
      "execution_count": 76,
      "outputs": [
        {
          "output_type": "execute_result",
          "data": {
            "text/plain": [
              "CNN(\n",
              "  (conv1): Conv2d(1, 6, kernel_size=(3, 3), stride=(1, 1))\n",
              "  (conv2): Conv2d(6, 16, kernel_size=(3, 3), stride=(1, 1))\n",
              "  (fc1): Linear(in_features=400, out_features=120, bias=True)\n",
              "  (fc2): Linear(in_features=120, out_features=84, bias=True)\n",
              "  (fc3): Linear(in_features=84, out_features=10, bias=True)\n",
              ")"
            ]
          },
          "metadata": {},
          "execution_count": 76
        }
      ]
    },
    {
      "cell_type": "code",
      "source": [
        "# loss and optimizer\n",
        "criterion = nn.CrossEntropyLoss()\n",
        "optimizer = torch.optim.Adam(model.parameters(),lr = 0.001)#learning rate and speed are inversely proportional in CNN\n"
      ],
      "metadata": {
        "id": "wKrLy0Ew0uX1"
      },
      "execution_count": 77,
      "outputs": []
    },
    {
      "cell_type": "code",
      "source": [
        "import time\n",
        "start_time = time.time()\n",
        "\n",
        "epochs = 5\n",
        "train_losses = []\n",
        "test_losses = []\n",
        "train_correct = []\n",
        "test_correct = []\n",
        "\n",
        "for i in range(epochs):\n",
        "  trn_corr = 0#number of trained values that are correct\n",
        "  tst_corr = 0\n",
        "\n",
        "  for b,(X_train,Y_train) in enumerate(train_load):\n",
        "    b+=1#number of batches\n",
        "    y_pred = model(X_train) #this is in 2d,not flat to pass it further\n",
        "    loss = criterion(y_pred,Y_train)\n",
        "\n",
        "    predicted = torch.max(y_pred.data,1)[1] #add the number of correct predictions\n",
        "    batch_corr = (predicted == Y_train).sum() #0/1\n",
        "\n",
        "    trn_corr += batch_corr\n",
        "\n",
        "    #optimization\n",
        "    optimizer.zero_grad()\n",
        "    loss.backward()\n",
        "    optimizer.step()\n",
        "\n",
        "    if b%600 == 0:\n",
        "      print(\"Epoch:\",i,\" \",\"Batch:\",b,\" \",\"Loss:\",loss.item())\n",
        "  train_losses.append(loss)\n",
        "  train_correct.append(trn_corr)\n",
        "\n",
        "  ts_corr = 0\n",
        "  #do the testing\n",
        "  with torch.no_grad():\n",
        "    for b,(X_test,y_test) in enumerate(test_load):\n",
        "      y_val = model(X_test)\n",
        "      predicted = torch.max(y_val.data,1)[1]\n",
        "      ts_corr += (predicted == y_test).sum()\n",
        "\n",
        "  loss1 = criterion(y_val,y_test)\n",
        "  test_losses.append(loss1)\n",
        "  test_correct.append(ts_corr)\n",
        "\n",
        "current_time = time.time()\n",
        "Total_time = current_time - start_time\n",
        "print(\"Time took:\",Total_time)"
      ],
      "metadata": {
        "colab": {
          "base_uri": "https://localhost:8080/"
        },
        "id": "twLEmhYs1mcO",
        "outputId": "d0bd8a73-71fa-4e27-9d6c-66cfcadd2df9"
      },
      "execution_count": 80,
      "outputs": [
        {
          "output_type": "stream",
          "name": "stdout",
          "text": [
            "Epoch: 0   Batch: 600   Loss: 1.4779859781265259\n",
            "Epoch: 0   Batch: 1200   Loss: 0.9861955642700195\n",
            "Epoch: 0   Batch: 1800   Loss: 1.0625174045562744\n",
            "Epoch: 0   Batch: 2400   Loss: 0.9242938756942749\n",
            "Epoch: 0   Batch: 3000   Loss: 0.8206874132156372\n",
            "Epoch: 0   Batch: 3600   Loss: 0.9214671850204468\n",
            "Epoch: 0   Batch: 4200   Loss: 0.6976826190948486\n",
            "Epoch: 0   Batch: 4800   Loss: 0.921680748462677\n",
            "Epoch: 0   Batch: 5400   Loss: 0.46950215101242065\n",
            "Epoch: 0   Batch: 6000   Loss: 0.46465593576431274\n",
            "Epoch: 1   Batch: 600   Loss: 0.4614998400211334\n",
            "Epoch: 1   Batch: 1200   Loss: 0.9212328195571899\n",
            "Epoch: 1   Batch: 1800   Loss: 0.46053630113601685\n",
            "Epoch: 1   Batch: 2400   Loss: 0.922718346118927\n",
            "Epoch: 1   Batch: 3000   Loss: 0.4733949601650238\n",
            "Epoch: 1   Batch: 3600   Loss: 0.6910584568977356\n",
            "Epoch: 1   Batch: 4200   Loss: 0.23272080719470978\n",
            "Epoch: 1   Batch: 4800   Loss: 0.4613497853279114\n",
            "Epoch: 1   Batch: 5400   Loss: 0.4631156027317047\n",
            "Epoch: 1   Batch: 6000   Loss: 0.2309027463197708\n",
            "Epoch: 2   Batch: 600   Loss: 0.0028993769083172083\n",
            "Epoch: 2   Batch: 1200   Loss: 0.6932833790779114\n",
            "Epoch: 2   Batch: 1800   Loss: 0.13529136776924133\n",
            "Epoch: 2   Batch: 2400   Loss: 0.6918131113052368\n",
            "Epoch: 2   Batch: 3000   Loss: 0.6911540031433105\n",
            "Epoch: 2   Batch: 3600   Loss: 0.9210368990898132\n",
            "Epoch: 2   Batch: 4200   Loss: 0.30841729044914246\n",
            "Epoch: 2   Batch: 4800   Loss: 0.4608216881752014\n",
            "Epoch: 2   Batch: 5400   Loss: 0.6908012628555298\n",
            "Epoch: 2   Batch: 6000   Loss: 0.9210354685783386\n",
            "Epoch: 3   Batch: 600   Loss: 0.2303769290447235\n",
            "Epoch: 3   Batch: 1200   Loss: 0.7639762759208679\n",
            "Epoch: 3   Batch: 1800   Loss: 0.9304143190383911\n",
            "Epoch: 3   Batch: 2400   Loss: 0.979047417640686\n",
            "Epoch: 3   Batch: 3000   Loss: 0.4664316773414612\n",
            "Epoch: 3   Batch: 3600   Loss: 0.4609833359718323\n",
            "Epoch: 3   Batch: 4200   Loss: 1.010391354560852\n",
            "Epoch: 3   Batch: 4800   Loss: 0.6908125281333923\n",
            "Epoch: 3   Batch: 5400   Loss: 0.6986837387084961\n",
            "Epoch: 3   Batch: 6000   Loss: 0.9657942056655884\n",
            "Epoch: 4   Batch: 600   Loss: 0.23171201348304749\n",
            "Epoch: 4   Batch: 1200   Loss: 0.6919587254524231\n",
            "Epoch: 4   Batch: 1800   Loss: 1.3848375082015991\n",
            "Epoch: 4   Batch: 2400   Loss: 0.690787672996521\n",
            "Epoch: 4   Batch: 3000   Loss: 0.23031428456306458\n",
            "Epoch: 4   Batch: 3600   Loss: 0.4677163064479828\n",
            "Epoch: 4   Batch: 4200   Loss: 0.46079835295677185\n",
            "Epoch: 4   Batch: 4800   Loss: 0.5457842946052551\n",
            "Epoch: 4   Batch: 5400   Loss: 1.1512969732284546\n",
            "Epoch: 4   Batch: 6000   Loss: 0.699110209941864\n",
            "Time took: 191.10011458396912\n"
          ]
        }
      ]
    },
    {
      "cell_type": "code",
      "source": [
        "train_losses = [tl.item() for tl in train_losses]\n",
        "plt.plot(train_losses,label=\"Training Loss\")\n",
        "plt.plot(test_losses,label=\"Validation Loss\")\n",
        "plt.title(\"Loss per epoch\")\n",
        "plt.legend()"
      ],
      "metadata": {
        "colab": {
          "base_uri": "https://localhost:8080/",
          "height": 469
        },
        "id": "HTdaTmdgCoyI",
        "outputId": "9902d8d0-a6aa-45fd-9b79-acbdbb2bab1f"
      },
      "execution_count": 82,
      "outputs": [
        {
          "output_type": "execute_result",
          "data": {
            "text/plain": [
              "<matplotlib.legend.Legend at 0x7e5a478fe290>"
            ]
          },
          "metadata": {},
          "execution_count": 82
        },
        {
          "output_type": "display_data",
          "data": {
            "text/plain": [
              "<Figure size 640x480 with 1 Axes>"
            ],
            "image/png": "[encoded data removed]"
          },
          "metadata": {}
        }
      ]
    },
    {
      "cell_type": "code",
      "source": [],
      "metadata": {
        "id": "7mRy5NOyDSmv"
      },
      "execution_count": null,
      "outputs": []
    }
  ]
}